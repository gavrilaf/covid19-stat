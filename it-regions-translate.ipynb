{
 "cells": [
  {
   "cell_type": "code",
   "execution_count": 1,
   "metadata": {},
   "outputs": [],
   "source": [
    "import pandas as pd"
   ]
  },
  {
   "cell_type": "code",
   "execution_count": 2,
   "metadata": {},
   "outputs": [],
   "source": [
    "# data from https://www.tuttitalia.it/regioni/popolazione/\n",
    "# copied manually"
   ]
  },
  {
   "cell_type": "code",
   "execution_count": 3,
   "metadata": {},
   "outputs": [],
   "source": [
    "regions = pd.read_csv('it-regions-2.csv', sep='\\t', names=['region_name', 'population', 'skip1', 'density', 'skip2', 'skip3'])"
   ]
  },
  {
   "cell_type": "code",
   "execution_count": 4,
   "metadata": {},
   "outputs": [],
   "source": [
    "regions.drop(['skip1', 'skip2', 'skip3'], axis=1, inplace=True)"
   ]
  },
  {
   "cell_type": "code",
   "execution_count": 6,
   "metadata": {},
   "outputs": [],
   "source": [
    "regions['population'] = regions['population'].apply(lambda x: pd.to_numeric(str(x).replace('.', '')))"
   ]
  },
  {
   "cell_type": "code",
   "execution_count": 11,
   "metadata": {},
   "outputs": [],
   "source": [
    "# Source: https://www.statista.com/statistics/569187/average-age-of-the-population-in-italy-by-region/\n",
    "# copied from html source"
   ]
  },
  {
   "cell_type": "code",
   "execution_count": 18,
   "metadata": {},
   "outputs": [],
   "source": [
    "average_age = pd.read_html(\"it-average-age.html\")[0]"
   ]
  },
  {
   "cell_type": "code",
   "execution_count": 21,
   "metadata": {},
   "outputs": [],
   "source": [
    "columns_to_rename={\n",
    "    'Unnamed: 0': 'region_name', \n",
    "    'Average age in years': 'average_age'\n",
    "}"
   ]
  },
  {
   "cell_type": "code",
   "execution_count": 22,
   "metadata": {},
   "outputs": [],
   "source": [
    "average_age.rename(columns=columns_to_rename, inplace=True)"
   ]
  },
  {
   "cell_type": "code",
   "execution_count": 34,
   "metadata": {},
   "outputs": [],
   "source": [
    "r_map = {\n",
    "    'Lombardy': 'Lombardia',\n",
    "    'Sicily': 'Sicilia',\n",
    "    'Piedmont': 'Piemonte',\n",
    "    'Tuscany': 'Toscana',\n",
    "    'Sardinia': 'Sardegna',\n",
    "    'Friuli-Venezia Giulia': 'Friuli Venezia Giulia',\n",
    "    'Trentino-South Tyrol': 'Trentino-Alto Adige',\n",
    "    'Aosta Valley': \"Valle d'Aosta\",\n",
    "    'Apulia': 'Puglia'\n",
    "}"
   ]
  },
  {
   "cell_type": "code",
   "execution_count": 35,
   "metadata": {},
   "outputs": [],
   "source": [
    "average_age['region_name'] = average_age['region_name'].map(r_map).fillna(age_distr['region_name'])"
   ]
  },
  {
   "cell_type": "code",
   "execution_count": 40,
   "metadata": {},
   "outputs": [],
   "source": [
    "regions = regions.merge(average_age, on='region_name')"
   ]
  },
  {
   "cell_type": "code",
   "execution_count": null,
   "metadata": {},
   "outputs": [],
   "source": [
    "# https://www.statista.com/statistics/569240/population-distribution-by-age-group-in-italy-by-region/"
   ]
  },
  {
   "cell_type": "code",
   "execution_count": 42,
   "metadata": {},
   "outputs": [],
   "source": [
    "age_distr = pd.read_html(\"it-age-distr.html\")[0]"
   ]
  },
  {
   "cell_type": "code",
   "execution_count": 45,
   "metadata": {},
   "outputs": [],
   "source": [
    "columns_to_rename={\n",
    "    'Unnamed: 0': 'region_name', \n",
    "    '0-14 years': '0_14',\n",
    "    '15-64 years': '15_64',\n",
    "    '65 years and older': '65_'\n",
    "}"
   ]
  },
  {
   "cell_type": "code",
   "execution_count": 46,
   "metadata": {},
   "outputs": [],
   "source": [
    "age_distr.rename(columns=columns_to_rename, inplace=True)"
   ]
  },
  {
   "cell_type": "code",
   "execution_count": 48,
   "metadata": {},
   "outputs": [],
   "source": [
    "age_distr['region_name'] = age_distr['region_name'].map(r_map).fillna(age_distr['region_name'])"
   ]
  },
  {
   "cell_type": "code",
   "execution_count": 50,
   "metadata": {},
   "outputs": [],
   "source": [
    "regions = regions.merge(age_distr, on='region_name')"
   ]
  },
  {
   "cell_type": "code",
   "execution_count": 52,
   "metadata": {},
   "outputs": [],
   "source": [
    "regions.to_csv('it-regions-translated.csv', index=False)"
   ]
  },
  {
   "cell_type": "code",
   "execution_count": null,
   "metadata": {},
   "outputs": [],
   "source": []
  }
 ],
 "metadata": {
  "kernelspec": {
   "display_name": "Python 3",
   "language": "python",
   "name": "python3"
  },
  "language_info": {
   "codemirror_mode": {
    "name": "ipython",
    "version": 3
   },
   "file_extension": ".py",
   "mimetype": "text/x-python",
   "name": "python",
   "nbconvert_exporter": "python",
   "pygments_lexer": "ipython3",
   "version": "3.8.2"
  }
 },
 "nbformat": 4,
 "nbformat_minor": 4
}
